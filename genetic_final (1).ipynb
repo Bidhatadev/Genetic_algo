{
  "cells": [
    {
      "cell_type": "code",
      "execution_count": 2,
      "metadata": {
        "id": "KZKeJw9QxNWI"
      },
      "outputs": [],
      "source": [
        "import random\n",
        "import numpy as np"
      ]
    },
    {
      "cell_type": "code",
      "execution_count": 1,
      "metadata": {
        "id": "feYn_4BCxOy0"
      },
      "outputs": [],
      "source": [
        "# Parameters\n",
        "POP_SIZE = 20\n",
        "GENS = 100\n",
        "MUT_RATE = 0.01\n",
        "CROSS_RATE = 0.7"
      ]
    },
    {
      "cell_type": "code",
      "execution_count": 3,
      "metadata": {
        "id": "rEKsHp3txZKO"
      },
      "outputs": [],
      "source": [
        "# Binary encoding length\n",
        "SIGN_BIT = 1\n",
        "INT_BITS = 6\n",
        "FRAC_BITS = 6\n",
        "TOTAL_BITS = SIGN_BIT + INT_BITS + FRAC_BITS"
      ]
    },
    {
      "cell_type": "code",
      "execution_count": 4,
      "metadata": {
        "id": "hxr5XLuvxiWz"
      },
      "outputs": [],
      "source": [
        "def binary_to_float(binary):\n",
        "    sign = -1 if binary[0] == '1' else 1\n",
        "    integer = int(binary[1:1+INT_BITS], 2)\n",
        "    fraction = int(binary[1+INT_BITS:], 2) / (2**FRAC_BITS)\n",
        "    return sign * (integer + fraction)"
      ]
    },
    {
      "cell_type": "code",
      "execution_count": 6,
      "metadata": {
        "id": "flkVK7Wkx07P"
      },
      "outputs": [],
      "source": [
        "def float_to_binary(value):\n",
        "    sign = '1' if value < 0 else '0'\n",
        "    integer = bin(int(abs(value)))[2:].zfill(INT_BITS)\n",
        "    fraction = bin(int((abs(value) - int(abs(value))) * (2**FRAC_BITS)))[2:].zfill(FRAC_BITS)\n",
        "    return sign + integer + fraction"
      ]
    },
    {
      "cell_type": "code",
      "execution_count": 347,
      "metadata": {
        "id": "DxId_avZx8ls"
      },
      "outputs": [],
      "source": [
        "def crossover(parent1, parent2):\n",
        "    child1 = []\n",
        "    child2 = []\n",
        "    for i in range(bit_len):\n",
        "        if random.random() < 0.5:\n",
        "            child1.append(parent1[i])\n",
        "            child2.append(parent2[i])\n",
        "        else:\n",
        "            child1.append(parent2[i])\n",
        "            child2.append(parent1[i])\n",
        "    return ''.join(child1), ''.join(child2)"
      ]
    },
    {
      "cell_type": "code",
      "execution_count": 7,
      "metadata": {
        "id": "FGJH3PocyAZ2"
      },
      "outputs": [],
      "source": [
        "def fitness(value):\n",
        "    return abs(2 * value**2 + 5 * value - 3)\n",
        "\n",
        "def initial_population(size):\n",
        "    return [''.join(random.choice('01') for _ in range(TOTAL_BITS)) for _ in range(size)]\n",
        "\n",
        "def select(population):\n",
        "    selected = sorted(population, key=lambda x: fitness(binary_to_float(x)))\n",
        "    return selected[:POP_SIZE//2]\n",
        "\n",
        "def crossover(parent1, parent2):\n",
        "    if random.random() < CROSS_RATE:\n",
        "        point1 = random.randint(1, TOTAL_BITS - 1)\n",
        "        point2 = random.randint(1, TOTAL_BITS - 1)\n",
        "        if point1 > point2:\n",
        "            point1, point2 = point2, point1\n",
        "        child1 = parent1[:point1] + parent2[point1:point2] + parent1[point2:]\n",
        "        child2 = parent2[:point1] + parent1[point1:point2] + parent2[point2:]\n",
        "        return child1, child2\n",
        "    else:\n",
        "        return parent1, parent2\n",
        "\n",
        "def mutate(individual):\n",
        "    individual = list(individual)\n",
        "    for i in range(TOTAL_BITS):\n",
        "        if random.random() < MUT_RATE:\n",
        "            individual[i] = '1' if individual[i] == '0' else '0'\n",
        "    return ''.join(individual)\n"
      ]
    },
    {
      "cell_type": "code",
      "execution_count": 349,
      "metadata": {
        "id": "wdYV6dlUyFY-"
      },
      "outputs": [],
      "source": [
        "def roulette_wheel_selection(population, fitness_values):\n",
        "    total_fitness = sum(fitness_values)\n",
        "    probabilities = [fitness / total_fitness for fitness in fitness_values]\n",
        "    pointer = random.random()\n",
        "    cumulative_prob = 0\n",
        "    for i, prob in enumerate(probabilities):\n",
        "        cumulative_prob += prob\n",
        "        if pointer <= cumulative_prob:\n",
        "            return population[i]"
      ]
    },
    {
      "cell_type": "code",
      "execution_count": 8,
      "metadata": {
        "id": "mQj6R1aZyIT1"
      },
      "outputs": [],
      "source": [
        "# Genetic Algorithm\n",
        "population = initial_population(POP_SIZE)\n",
        "for generation in range(GENS):\n",
        "    selected = select(population)\n",
        "    next_population = []\n",
        "    while len(next_population) < POP_SIZE:\n",
        "        parent1, parent2 = random.choice(selected), random.choice(selected)\n",
        "        child1, child2 = crossover(parent1, parent2)\n",
        "        next_population.append(mutate(child1))\n",
        "        next_population.append(mutate(child2))\n",
        "    population = next_population\n"
      ]
    },
    {
      "cell_type": "code",
      "execution_count": 9,
      "metadata": {
        "id": "Y_YtS_d5yRRx"
      },
      "outputs": [],
      "source": [
        "# Find the best solution\n",
        "best_individual = min(population, key=lambda x: fitness(binary_to_float(x)))\n",
        "best_value = binary_to_float(best_individual)\n",
        "best_fitness = fitness(best_value)\n"
      ]
    },
    {
      "cell_type": "code",
      "execution_count": 10,
      "metadata": {
        "colab": {
          "base_uri": "https://localhost:8080/"
        },
        "id": "VCKTGL9yGrEU",
        "outputId": "43df38a6-ea50-420b-e529-36658c0b1c08"
      },
      "outputs": [
        {
          "name": "stdout",
          "output_type": "stream",
          "text": [
            "Best value: -2.984375, Fitness: 0.10888671875\n"
          ]
        }
      ],
      "source": [
        "print(f'Best value: {best_value}, Fitness: {best_fitness}')"
      ]
    },
    {
      "cell_type": "code",
      "execution_count": null,
      "metadata": {},
      "outputs": [],
      "source": []
    }
  ],
  "metadata": {
    "colab": {
      "provenance": []
    },
    "kernelspec": {
      "display_name": "Python 3",
      "name": "python3"
    },
    "language_info": {
      "codemirror_mode": {
        "name": "ipython",
        "version": 3
      },
      "file_extension": ".py",
      "mimetype": "text/x-python",
      "name": "python",
      "nbconvert_exporter": "python",
      "pygments_lexer": "ipython3",
      "version": "3.12.4"
    }
  },
  "nbformat": 4,
  "nbformat_minor": 0
}
